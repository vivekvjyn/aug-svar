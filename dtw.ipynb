{
 "cells": [
  {
   "cell_type": "code",
   "execution_count": 5,
   "id": "f52935e9-fadf-407e-8cb6-7528f3c767ca",
   "metadata": {},
   "outputs": [],
   "source": [
    "import numpy as np\n",
    "import os\n",
    "import matplotlib.pyplot as plt\n",
    "import librosa\n",
    "from dtaidistance import dtw\n",
    "from fastdtw import fastdtw\n",
    "from scipy.signal import argrelextrema"
   ]
  },
  {
   "cell_type": "code",
   "execution_count": 6,
   "id": "2ea3d9e1-4a62-433f-8519-050b7389ac11",
   "metadata": {},
   "outputs": [],
   "source": [
    "segment_dir = 'segment'\n",
    "pair_dir = 'pair'"
   ]
  },
  {
   "cell_type": "code",
   "execution_count": 58,
   "id": "71493db0-edba-424d-9354-a335667d7cf9",
   "metadata": {},
   "outputs": [],
   "source": [
    "visited = []\n",
    "\n",
    "for segmentx_name in os.listdir(segment_dir):\n",
    "    # Skip if already matched\n",
    "    if segmentx_name in visited:\n",
    "        continue\n",
    "\n",
    "    # Get anchor\n",
    "    x = np.load(os.path.join(segment_dir, segmentx_name))\n",
    "\n",
    "    # Create folder for set\n",
    "    os.makedirs(os.path.join(pair_dir, segmentx_name[:-4]), exist_ok=True)\n",
    "\n",
    "    for segmenty_name in os.listdir(segment_dir):\n",
    "        pair = True\n",
    "        # Skip if already matched\n",
    "        if segmenty_name in visited:\n",
    "            continue\n",
    "\n",
    "        # Load candidate\n",
    "        y = np.load(os.path.join(segment_dir, segmenty_name))\n",
    "\n",
    "        # Allow reasonable length difference\n",
    "        if abs(len(x) - len(y)) > 4:\n",
    "            continue\n",
    "\n",
    "        # Allow reasonable difference in standard deviations\n",
    "        if abs(np.std(x) - np.std(y)) > 10:\n",
    "            continue\n",
    "        \n",
    "        for i in range(0, min(len(y), len(x)) - 3, 3):\n",
    "            xi = x[i:i+3]\n",
    "            yi = y[i:i+3]\n",
    "            distance, paths = fastdtw(xi, yi)\n",
    "\n",
    "            if distance > 100:\n",
    "                pair = False\n",
    "                break\n",
    "\n",
    "        if not pair:\n",
    "            continue\n",
    "\n",
    "        visited.append(segmenty_name)\n",
    "\n",
    "        # Save the segments and plots in the set folder\n",
    "        plt.plot(x)\n",
    "        plt.plot(y)\n",
    "        plt.savefig(f'{pair_dir}/{segmentx_name[:-4]}/{segmenty_name[:-4]}.png')\n",
    "        plt.close()\n",
    "        np.save(f'{pair_dir}/{segmentx_name[:-4]}/{segmenty_name}', y)\n",
    "\n",
    "    \n",
    "    plt.show()"
   ]
  },
  {
   "cell_type": "code",
   "execution_count": null,
   "id": "dab6912d-f604-4fad-95e4-78e166e7e9fc",
   "metadata": {},
   "outputs": [],
   "source": []
  }
 ],
 "metadata": {
  "kernelspec": {
   "display_name": "Python 3 (ipykernel)",
   "language": "python",
   "name": "python3"
  },
  "language_info": {
   "codemirror_mode": {
    "name": "ipython",
    "version": 3
   },
   "file_extension": ".py",
   "mimetype": "text/x-python",
   "name": "python",
   "nbconvert_exporter": "python",
   "pygments_lexer": "ipython3",
   "version": "3.10.16"
  }
 },
 "nbformat": 4,
 "nbformat_minor": 5
}
