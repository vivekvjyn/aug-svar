{
 "cells": [
  {
   "cell_type": "code",
   "execution_count": 8,
   "id": "f52935e9-fadf-407e-8cb6-7528f3c767ca",
   "metadata": {},
   "outputs": [],
   "source": [
    "import numpy as np\n",
    "import os\n",
    "import matplotlib.pyplot as plt\n",
    "import librosa"
   ]
  },
  {
   "cell_type": "code",
   "execution_count": 2,
   "id": "2ea3d9e1-4a62-433f-8519-050b7389ac11",
   "metadata": {},
   "outputs": [],
   "source": [
    "segment_dir = 'segment'"
   ]
  },
  {
   "cell_type": "code",
   "execution_count": 7,
   "id": "71493db0-edba-424d-9354-a335667d7cf9",
   "metadata": {},
   "outputs": [
    {
     "name": "stdout",
     "output_type": "stream",
     "text": [
      "[]\n",
      "[]\n"
     ]
    }
   ],
   "source": [
    "for segment_name in os.listdir(segment_dir):\n",
    "    segment = np.load(os.path.join(segment_dir, segment_name))\n",
    "\n",
    "    local_maxima = argrelextrema(segment, np.greater)[0]\n",
    "    local_minima = argrelextrema(segment, np.less)[0]\n",
    "\n",
    "    print(local_maxima)\n",
    "    print(local_minima)\n",
    "\n",
    "    break"
   ]
  },
  {
   "cell_type": "code",
   "execution_count": null,
   "id": "dab6912d-f604-4fad-95e4-78e166e7e9fc",
   "metadata": {},
   "outputs": [],
   "source": []
  }
 ],
 "metadata": {
  "kernelspec": {
   "display_name": "Python 3 (ipykernel)",
   "language": "python",
   "name": "python3"
  },
  "language_info": {
   "codemirror_mode": {
    "name": "ipython",
    "version": 3
   },
   "file_extension": ".py",
   "mimetype": "text/x-python",
   "name": "python",
   "nbconvert_exporter": "python",
   "pygments_lexer": "ipython3",
   "version": "3.10.16"
  }
 },
 "nbformat": 4,
 "nbformat_minor": 5
}
