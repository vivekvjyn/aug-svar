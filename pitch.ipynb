{
 "cells": [
  {
   "cell_type": "code",
   "execution_count": 37,
   "id": "d1a26e66-05f7-455b-8f57-d3ff22a29bf9",
   "metadata": {},
   "outputs": [],
   "source": [
    "import mirdata\n",
    "import numpy as np\n",
    "import os\n",
    "import matplotlib.pyplot as plt\n",
    "from lib.utils import smooth_pitch_curve, expand_zero_regions, interpolate_below_length, pitch_seq_to_cents, subsample_series"
   ]
  },
  {
   "cell_type": "code",
   "execution_count": 38,
   "id": "346fd992-2e82-4410-9d0e-963e715053ae",
   "metadata": {},
   "outputs": [],
   "source": [
    "data_home = 'mirdatasets/Saraga'\n",
    "dataset_name = 'saraga_carnatic'"
   ]
  },
  {
   "cell_type": "code",
   "execution_count": 39,
   "id": "e7336fa4-b83a-44e6-937e-f68cd7a4880c",
   "metadata": {},
   "outputs": [],
   "source": [
    "dataset = mirdata.initialize(data_home=data_home, dataset_name=dataset_name)"
   ]
  },
  {
   "cell_type": "code",
   "execution_count": 40,
   "id": "e681fcb3-2062-4ad4-adfd-059606b06f80",
   "metadata": {},
   "outputs": [],
   "source": [
    "#dataset.download(force_overwrite=True)"
   ]
  },
  {
   "cell_type": "code",
   "execution_count": 41,
   "id": "340cf749-768b-4af6-9013-123dbcb0fe58",
   "metadata": {},
   "outputs": [],
   "source": [
    "data = dataset.load_tracks()"
   ]
  },
  {
   "cell_type": "code",
   "execution_count": 42,
   "id": "cd1e4681-3f81-4d55-ac26-93f6518238b8",
   "metadata": {},
   "outputs": [],
   "source": [
    "pitch_dir = 'pitch'"
   ]
  },
  {
   "cell_type": "code",
   "execution_count": 49,
   "id": "760f27a9-df3b-4dc5-a649-de0796dafc84",
   "metadata": {},
   "outputs": [],
   "source": [
    "for track_id, track in data.items():\n",
    "    tonic = track.tonic\n",
    "    pitch = track.pitch\n",
    "    tempo = track.tempo\n",
    "\n",
    "    if not track.metadata['raaga']:\n",
    "        continue\n",
    "        \n",
    "    if track.metadata['raaga'][0]['name'] != 'Bhairavi':\n",
    "        continue\n",
    "    \n",
    "    if not pitch or not tempo:\n",
    "        continue\n",
    "    \n",
    "    beat = tempo['tempo_bpm'] / 60\n",
    "    \n",
    "    frequencies = pitch.frequencies\n",
    "    times = pitch.times\n",
    "    timestep = times[3] - times[2]\n",
    "\n",
    "    frequencies = expand_zero_regions(frequencies, round(0.02 / timestep))\n",
    "    frequencies = interpolate_below_length(frequencies, 0, (100 * 0.001 / timestep))\n",
    "    cents = pitch_seq_to_cents(frequencies, tonic=tonic)\n",
    "    time, cents = subsample_series(times, cents, 0.5)\n",
    "    \n",
    "    time_beat = time/beat\n",
    "    try:\n",
    "        cents = smooth_pitch_curve(time_beat, cents, smoothing_factor=0.4)\n",
    "    except:\n",
    "        continue\n",
    "\n",
    "    np.save(f'{pitch_dir}/{track_id}', cents)"
   ]
  },
  {
   "cell_type": "code",
   "execution_count": null,
   "id": "dbeb1fdd-257e-48d9-b1c7-9dc60d87df50",
   "metadata": {},
   "outputs": [],
   "source": []
  }
 ],
 "metadata": {
  "kernelspec": {
   "display_name": "Python 3 (ipykernel)",
   "language": "python",
   "name": "python3"
  },
  "language_info": {
   "codemirror_mode": {
    "name": "ipython",
    "version": 3
   },
   "file_extension": ".py",
   "mimetype": "text/x-python",
   "name": "python",
   "nbconvert_exporter": "python",
   "pygments_lexer": "ipython3",
   "version": "3.10.16"
  }
 },
 "nbformat": 4,
 "nbformat_minor": 5
}
