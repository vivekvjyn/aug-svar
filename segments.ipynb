{
 "cells": [
  {
   "cell_type": "code",
   "execution_count": 27,
   "id": "9b6299f8-f2be-46a7-8010-154ecd82d516",
   "metadata": {},
   "outputs": [],
   "source": [
    "import numpy as np\n",
    "import os\n",
    "import matplotlib.pyplot as plt"
   ]
  },
  {
   "cell_type": "code",
   "execution_count": 28,
   "id": "202ed814-d5a7-4959-b686-89ce5c86888d",
   "metadata": {},
   "outputs": [],
   "source": [
    "pitch_dir = 'pitch'\n",
    "segment_dir = 'segment'"
   ]
  },
  {
   "cell_type": "code",
   "execution_count": 29,
   "id": "3ecdebb9-959e-492b-ba65-4ef31b347bdc",
   "metadata": {},
   "outputs": [],
   "source": [
    "lengths = np.array([\n",
    "    0.970,\n",
    "    0.531,\n",
    "    0.846,\n",
    "    1.891,\n",
    "    1.012,\n",
    "    0.484,\n",
    "    1.401,\n",
    "    0.592,\n",
    "    2.212,\n",
    "    0.731,\n",
    "    1.693,\n",
    "    0.353,\n",
    "])\n",
    "\n",
    "timestep = 4.4444e-3\n",
    "lengths /= timestep"
   ]
  },
  {
   "cell_type": "code",
   "execution_count": 30,
   "id": "b6e5b949-0993-4330-be01-617e56d45d9c",
   "metadata": {},
   "outputs": [],
   "source": [
    "for pitch_name in os.listdir(pitch_dir):\n",
    "    pitch = np.load(os.path.join(pitch_dir, pitch_name))\n",
    "    \n",
    "    for length in lengths:\n",
    "        for i in range(0, len(pitch) - int(length), int(length) // 2):\n",
    "            segment = pitch[i: i + int(length)]\n",
    "\n",
    "            np.save(f'{segment_dir}/{pitch_name}{i}', segment)"
   ]
  },
  {
   "cell_type": "code",
   "execution_count": null,
   "id": "7618249c-172e-41ea-a424-944d390ab8e6",
   "metadata": {},
   "outputs": [],
   "source": []
  }
 ],
 "metadata": {
  "kernelspec": {
   "display_name": "Python 3 (ipykernel)",
   "language": "python",
   "name": "python3"
  },
  "language_info": {
   "codemirror_mode": {
    "name": "ipython",
    "version": 3
   },
   "file_extension": ".py",
   "mimetype": "text/x-python",
   "name": "python",
   "nbconvert_exporter": "python",
   "pygments_lexer": "ipython3",
   "version": "3.10.16"
  }
 },
 "nbformat": 4,
 "nbformat_minor": 5
}
