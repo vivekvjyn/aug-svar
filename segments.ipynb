{
 "cells": [
  {
   "cell_type": "code",
   "execution_count": 1,
   "id": "9b6299f8-f2be-46a7-8010-154ecd82d516",
   "metadata": {},
   "outputs": [],
   "source": [
    "import numpy as np\n",
    "import os\n",
    "import matplotlib.pyplot as plt"
   ]
  },
  {
   "cell_type": "code",
   "execution_count": 2,
   "id": "202ed814-d5a7-4959-b686-89ce5c86888d",
   "metadata": {},
   "outputs": [],
   "source": [
    "pitch_dir = 'pitch'\n",
    "segment_dir = 'segment'\n",
    "tempo_dir = 'tempo'"
   ]
  },
  {
   "cell_type": "code",
   "execution_count": 3,
   "id": "3ecdebb9-959e-492b-ba65-4ef31b347bdc",
   "metadata": {},
   "outputs": [],
   "source": [
    "lengths = np.array([0.125, 0.25, 0.5, 1])\n",
    "\n",
    "timestep = 4.4444e-3"
   ]
  },
  {
   "cell_type": "code",
   "execution_count": 4,
   "id": "b6e5b949-0993-4330-be01-617e56d45d9c",
   "metadata": {},
   "outputs": [],
   "source": [
    "for pitch_name in os.listdir(pitch_dir):\n",
    "    pitch = np.load(os.path.join(pitch_dir, pitch_name))\n",
    "    tempo = np.load(os.path.join(tempo_dir, pitch_name))\n",
    "    beatlength = 60 / tempo\n",
    "\n",
    "    i = 0\n",
    "    while i < len(pitch) - int(max(lengths)):\n",
    "        length = np.random.choice(lengths) * beatlength\n",
    "        length /= timestep\n",
    "        length = int(length)\n",
    "        segment = pitch[i: i + int(length)]\n",
    "        \n",
    "        if any(np.isnan(segment)):\n",
    "            i += length\n",
    "            continue\n",
    "\n",
    "        np.save(f'{segment_dir}/{pitch_name[:-4]}{i}', segment)\n",
    "\n",
    "        i += length"
   ]
  },
  {
   "cell_type": "code",
   "execution_count": null,
   "id": "7618249c-172e-41ea-a424-944d390ab8e6",
   "metadata": {},
   "outputs": [],
   "source": []
  }
 ],
 "metadata": {
  "kernelspec": {
   "display_name": "Python 3 (ipykernel)",
   "language": "python",
   "name": "python3"
  },
  "language_info": {
   "codemirror_mode": {
    "name": "ipython",
    "version": 3
   },
   "file_extension": ".py",
   "mimetype": "text/x-python",
   "name": "python",
   "nbconvert_exporter": "python",
   "pygments_lexer": "ipython3",
   "version": "3.10.16"
  }
 },
 "nbformat": 4,
 "nbformat_minor": 5
}
